{
 "cells": [
  {
   "cell_type": "markdown",
   "id": "0ea02a79",
   "metadata": {},
   "source": [
    "CoordinateSystem: PROJCS[\"TUREF / TM27\",GEOGCS[\"TUREF\",DATUM[\"Turkish National Reference Frame\",SPHEROID[\"GRS 1980\",6378137,298.257222101,AUTHORITY[\"EPSG\",\"7019\"]],TOWGS84[0,0,0,0,0,0,0],AUTHORITY[\"EPSG\",\"1057\"]],PRIMEM[\"Greenwich\",0,AUTHORITY[\"EPSG\",\"8901\"]],UNIT[\"degree\",0.01745329251994328,AUTHORITY[\"EPSG\",\"9102\"]],AUTHORITY[\"EPSG\",\"5252\"]],PROJECTION[\"Transverse_Mercator\",AUTHORITY[\"EPSG\",\"9807\"]],PARAMETER[\"latitude_of_origin\",0],PARAMETER[\"central_meridian\",27],PARAMETER[\"scale_factor\",1],PARAMETER[\"false_easting\",500000],PARAMETER[\"false_northing\",0],UNIT[\"metre\",1,AUTHORITY[\"EPSG\",\"9001\"]],AUTHORITY[\"EPSG\",\"5253\"]]\n",
    "\n",
    "\n",
    "Label,X/Easting,Y/Northing,Z/Altitude,Yaw,Pitch,Roll,X_est,Y_est,Z_est,Yaw_est,Pitch_est,Roll_est\n",
    "DJI_0170.JPG,502690.655770,4264468.328425,129.600041,359.200000,0.100000,-0.000000,502690.450010,4264466.363887,80.363514,359.780665,0.267668,-0.937320\n",
    "DJI_0171.JPG,502690.269529,4264488.756772,129.300041,357.900000,0.100000,-0.000000,502690.040010,4264487.472347,80.303678,358.844635,0.170521,-0.917314"
   ]
  },
  {
   "cell_type": "code",
   "execution_count": 18,
   "id": "dd5e3b5c",
   "metadata": {},
   "outputs": [
    {
     "name": "stdout",
     "output_type": "stream",
     "text": [
      "Kamera iç matrisi (K):\n",
      " [[3.92160114e+03 0.00000000e+00 2.73600000e+03]\n",
      " [0.00000000e+00 3.92160114e+03 1.82400000e+03]\n",
      " [0.00000000e+00 0.00000000e+00 1.00000000e+00]]\n",
      "\n",
      "Kamera 1 merkezi (C1): [5.02690450e+05 4.26446636e+06 8.03635140e+01]\n",
      "Kamera 2 merkezi (C2): [5.02690040e+05 4.26448747e+06 8.03036780e+01]\n"
     ]
    }
   ],
   "source": [
    "import numpy as np\n",
    "import cv2 \n",
    "\n",
    "# ---------------------------\n",
    "# 1. Kamera Parametreleri\n",
    "# ---------------------------\n",
    "\n",
    "# Kamera iç parametreleri:\n",
    "focal_length_mm = 9.46        # mm cinsinden\n",
    "pixel_size_mm   = 0.00241228  # mm/pixel\n",
    "image_width     = 5472        # piksel\n",
    "image_height    = 3648        # piksel\n",
    "\n",
    "# Principal point (görüntü merkezi)\n",
    "cx_pixel = image_width / 2.0\n",
    "cy_pixel = image_height / 2.0\n",
    "\n",
    "# Odak uzaklığının piksel cinsine çevrilmesi:\n",
    "focal_length_px = focal_length_mm / pixel_size_mm\n",
    "\n",
    "# Kamera iç matrisi (K) - piksel cinsinden:\n",
    "K = np.array([[focal_length_px, 0,               cx_pixel],\n",
    "              [0,               focal_length_px, cy_pixel],\n",
    "              [0,               0,               1]], dtype=float)\n",
    "\n",
    "\n",
    "# Kamera 1 (sol fotoğraf):\n",
    "C1 = np.array([502690.450010, 4264466.363887, 80.363514], dtype=float)\n",
    "omega1, phi1, kappa1 = np.deg2rad(-0.937320), np.deg2rad(0.267668), np.deg2rad(359.780665)\n",
    "\n",
    "# Kamera 2 (sağ fotoğraf):\n",
    "C2 = np.array([502690.040010, 4264487.472347, 80.303678], dtype=float)\n",
    "omega2, phi2, kappa2 = np.deg2rad(-0.917314), np.deg2rad(0.170521), np.deg2rad(358.844635)\n",
    "\n",
    "print(\"Kamera iç matrisi (K):\\n\", K)\n",
    "print(\"\\nKamera 1 merkezi (C1):\", C1)\n",
    "print(\"Kamera 2 merkezi (C2):\", C2)\n"
   ]
  },
  {
   "cell_type": "code",
   "execution_count": 19,
   "id": "2103d645",
   "metadata": {},
   "outputs": [
    {
     "name": "stdout",
     "output_type": "stream",
     "text": [
      "Kamera 1 dönüş matrisi (R1):\n",
      " [[ 0.99998176  0.00375117  0.00473363]\n",
      " [-0.00382807  0.99985916  0.01634059]\n",
      " [-0.00467167 -0.01635841  0.99985528]]\n",
      "\n",
      "Kamera 2 dönüş matrisi (R2):\n",
      " [[ 0.99979227  0.02011334  0.00329797]\n",
      " [-0.02016347  0.99966952  0.01594621]\n",
      " [-0.00297615 -0.01600939  0.99986741]]\n"
     ]
    }
   ],
   "source": [
    "def rotation_matrix_from_omega_phi_kappa(omega, phi, kappa):\n",
    "    \"\"\"\n",
    "    Euler açıları (radyan cinsinden: omega, phi, kappa) kullanılarak \n",
    "    X, Y, Z eksenleri etrafında sırasıyla dönüş matrisini oluşturur.\n",
    "    Dönüş sırası: önce X, sonra Y, son olarak Z ekseni etrafında.\n",
    "    \"\"\"\n",
    "    Rx = np.array([[1, 0, 0],\n",
    "                   [0, np.cos(omega), -np.sin(omega)],\n",
    "                   [0, np.sin(omega),  np.cos(omega)]])\n",
    "    Ry = np.array([[ np.cos(phi), 0, np.sin(phi)],\n",
    "                   [0,           1, 0],\n",
    "                   [-np.sin(phi), 0, np.cos(phi)]])\n",
    "    Rz = np.array([[np.cos(kappa), -np.sin(kappa), 0],\n",
    "                   [np.sin(kappa),  np.cos(kappa), 0],\n",
    "                   [0,              0,             1]])\n",
    "    # Toplam dönüş matrisi: R = Rz * Ry * Rx\n",
    "    return Rz @ Ry @ Rx\n",
    "\n",
    "# Kameralar için dönüş matrisleri:\n",
    "R1 = rotation_matrix_from_omega_phi_kappa(omega1, phi1, kappa1)\n",
    "R2 = rotation_matrix_from_omega_phi_kappa(omega2, phi2, kappa2)\n",
    "\n",
    "def pixel_to_ray(u, v, K, pixel_size_mm, focal_length_mm):\n",
    "    \"\"\"\n",
    "    Verilen piksel koordinatları (u, v) için:\n",
    "    - Piksel ofsetini mm cinsine çevir,\n",
    "    - Kamera düzlemindeki nokta: [x, y, focal_length_mm] (z ekseni optik eksendir),\n",
    "    - Vektör normalize edilerek birim vektör elde edilir.\n",
    "    \"\"\"\n",
    "    cx = K[0, 2]\n",
    "    cy = K[1, 2]\n",
    "    x_mm = (u - cx) * pixel_size_mm\n",
    "    y_mm = (v - cy) * pixel_size_mm\n",
    "    ray_cam = np.array([x_mm, y_mm, focal_length_mm], dtype=float)\n",
    "    return ray_cam / np.linalg.norm(ray_cam)\n",
    "\n",
    "print(\"Kamera 1 dönüş matrisi (R1):\\n\", R1)\n",
    "print(\"\\nKamera 2 dönüş matrisi (R2):\\n\", R2)"
   ]
  },
  {
   "cell_type": "code",
   "execution_count": 24,
   "id": "210b5def",
   "metadata": {},
   "outputs": [
    {
     "name": "stdout",
     "output_type": "stream",
     "text": [
      "Kamera 1'deki ışın vektörü (kamera koordinat sisteminde):\n",
      " [ 0.20984408 -0.05501251  0.97618599]\n",
      "Kamera 2'deki ışın vektörü (kamera koordinat sisteminde):\n",
      " [0.20623961 0.21864317 0.95376118]\n",
      "\n",
      "Kamera 1'deki ışın vektörü (dünya koordinat sisteminde):\n",
      " [ 0.20549043 -0.07018645  0.9761391 ]\n",
      "Kamera 2'deki ışın vektörü (dünya koordinat sisteminde):\n",
      " [0.19894963 0.20744994 0.95780142]\n"
     ]
    }
   ],
   "source": [
    "# Nesnenin her iki görüntüdeki piksel koordinatları\n",
    "# Sol fotoğraf için:\n",
    "u1, v1 = 3579, 1603\n",
    "# Sağ fotoğraf için:\n",
    "u2, v2 = 3584, 2723\n",
    "\n",
    "# Her kamera için kamera koordinat sistemindeki ışın vektörleri (birim vektörler):\n",
    "ray1_cam = pixel_to_ray(u1, v1, K, pixel_size_mm, focal_length_mm)\n",
    "ray2_cam = pixel_to_ray(u2, v2, K, pixel_size_mm, focal_length_mm)\n",
    "\n",
    "# Dünya koordinat sistemine geçiş:\n",
    "# (Kamera koordinatından dünya koordinatına geçiş: ray_world = R^T * ray_cam)\n",
    "d1 = R1.T @ ray1_cam\n",
    "d2 = R2.T @ ray2_cam\n",
    "d1 = d1 / np.linalg.norm(d1)\n",
    "d2 = d2 / np.linalg.norm(d2)\n",
    "\n",
    "print(\"Kamera 1'deki ışın vektörü (kamera koordinat sisteminde):\\n\", ray1_cam)\n",
    "print(\"Kamera 2'deki ışın vektörü (kamera koordinat sisteminde):\\n\", ray2_cam)\n",
    "print(\"\\nKamera 1'deki ışın vektörü (dünya koordinat sisteminde):\\n\", d1)\n",
    "print(\"Kamera 2'deki ışın vektörü (dünya koordinat sisteminde):\\n\", d2)\n"
   ]
  },
  {
   "cell_type": "code",
   "execution_count": 23,
   "id": "18128f77",
   "metadata": {},
   "outputs": [
    {
     "name": "stdout",
     "output_type": "stream",
     "text": [
      "TUREF-TM/27 Sistemindeki Koordinatları: \n",
      "X = 502674.94 m\n",
      "Y = 4264471.63 m\n",
      "Z = 7.13 m\n"
     ]
    }
   ],
   "source": [
    "def triangulate_point_derenyi(C1, d1, C2, d2):\n",
    "    \"\"\"\n",
    "    İki kamera merkezinden çıkan ve dünya koordinat sisteminde verilen\n",
    "    iki birim yön vektörünün (d1, d2) en yakın noktalarını (skew lines) \n",
    "    hesaplar. \n",
    "    Derenyi'nin yönteminde, iki ışının en yakın yaklaşım noktalarının \n",
    "    ortalaması, nesnenin 3B konumunu verir.\n",
    "    \"\"\"\n",
    "    # İki kamera merkezi arasındaki vektör:\n",
    "    D = C2 - C1\n",
    "    dot_d1_d2 = np.dot(d1, d2)\n",
    "    denom = 1 - dot_d1_d2**2\n",
    "    if np.abs(denom) < 1e-6:\n",
    "        print(\"Işınlar neredeyse paralel, güvenilir sonuç alınamıyor.\")\n",
    "        return None\n",
    "    mu  = ((np.dot(d1, D) * dot_d1_d2) - np.dot(d2, D)) / denom\n",
    "    lambda_val = np.dot(d1, D) + dot_d1_d2 * mu\n",
    "\n",
    "    P1 = C1 + lambda_val * d1\n",
    "    P2 = C2 + mu * d2\n",
    "    return (P1 + P2) / 2.0\n",
    "\n",
    "# Üçgenleme sonucu nesnenin dünya koordinatları:\n",
    "point_world = triangulate_point_derenyi(C1, d1, C2, d2)\n",
    "if point_world is not None:\n",
    "    X, Y, Z = point_world\n",
    "    print(\"TUREF-TM/27 Sistemindeki Koordinatları: \")\n",
    "    print(\"X = {:.2f}\".format(X),\"m\")\n",
    "    print(\"Y = {:.2f}\".format(Y),\"m\")\n",
    "    print(\"Z = {:.2f}\".format(Z),\"m\")\n",
    "else:\n",
    "    print(\"Üçgenleme yapılamadı.\")"
   ]
  },
  {
   "cell_type": "code",
   "execution_count": null,
   "id": "d0ba7005",
   "metadata": {},
   "outputs": [],
   "source": []
  }
 ],
 "metadata": {
  "kernelspec": {
   "display_name": "Python 3 (ipykernel)",
   "language": "python",
   "name": "python3"
  },
  "language_info": {
   "codemirror_mode": {
    "name": "ipython",
    "version": 3
   },
   "file_extension": ".py",
   "mimetype": "text/x-python",
   "name": "python",
   "nbconvert_exporter": "python",
   "pygments_lexer": "ipython3",
   "version": "3.9.12"
  }
 },
 "nbformat": 4,
 "nbformat_minor": 5
}
